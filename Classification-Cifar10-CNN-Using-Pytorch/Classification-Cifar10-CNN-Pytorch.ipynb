{
  "nbformat": 4,
  "nbformat_minor": 0,
  "metadata": {
    "colab": {
      "provenance": [],
      "gpuType": "T4"
    },
    "kernelspec": {
      "name": "python3",
      "display_name": "Python 3"
    },
    "language_info": {
      "name": "python"
    },
    "accelerator": "GPU"
  },
  "cells": [
    {
      "cell_type": "markdown",
      "source": [
        "# Pytorch\n",
        "\n",
        "Build and train a convolutional neural network (CNN) using PyTorch for image classification tasks. (CIFAR10 dataset)"
      ],
      "metadata": {
        "id": "1XP_lfnsB4Nh"
      }
    },
    {
      "cell_type": "markdown",
      "source": [
        "## Import necessary libraries\n"
      ],
      "metadata": {
        "id": "QZbzFlIaBge6"
      }
    },
    {
      "cell_type": "code",
      "source": [
        "import torch\n",
        "import torch.nn as nn\n",
        "import torch.optim as optim\n",
        "import torchvision\n",
        "import torchvision.transforms as transforms"
      ],
      "metadata": {
        "id": "lbHg4u6iWvWY"
      },
      "execution_count": null,
      "outputs": []
    },
    {
      "cell_type": "code",
      "source": [
        "# Define the device to be used (GPU is available)\n",
        "device = torch.device('cuda' if torch.cuda.is_available() else 'cpu')"
      ],
      "metadata": {
        "id": "n9yuV4p3XMFO"
      },
      "execution_count": null,
      "outputs": []
    },
    {
      "cell_type": "markdown",
      "source": [
        "## Liad and preprocess data"
      ],
      "metadata": {
        "id": "G72eQ5AHBmeG"
      }
    },
    {
      "cell_type": "code",
      "source": [
        "# Transform to normalize the dataset\n",
        "transform = transforms.Compose([\n",
        "    transforms.ToTensor(),\n",
        "    transforms.Normalize((0.5, 0.5, 0.5), (0.5, 0.5, 0.5))])"
      ],
      "metadata": {
        "id": "ZJAyMgw8XMKM"
      },
      "execution_count": null,
      "outputs": []
    },
    {
      "cell_type": "code",
      "source": [
        "# Load the CIFAR-10 dataset\n",
        "train_dataset = torchvision.datasets.CIFAR10(root = './data', train = True, download = True, transform = transform)\n",
        "train_loader = torch.utils.data.DataLoader(train_dataset, batch_size = 64, shuffle=True)\n",
        "\n",
        "# Load the CIFAR-10 dataset\n",
        "test_dataset = torchvision.datasets.CIFAR10(root = './data', train = False, download = True, transform = transform)\n",
        "test_loader = torch.utils.data.DataLoader(test_dataset, batch_size = 64, shuffle=False)"
      ],
      "metadata": {
        "colab": {
          "base_uri": "https://localhost:8080/"
        },
        "id": "HPJfB1dAXMM1",
        "outputId": "dc6d017e-e759-4c6a-e41d-d3ce46209849"
      },
      "execution_count": null,
      "outputs": [
        {
          "output_type": "stream",
          "name": "stdout",
          "text": [
            "Downloading https://www.cs.toronto.edu/~kriz/cifar-10-python.tar.gz to ./data/cifar-10-python.tar.gz\n"
          ]
        },
        {
          "output_type": "stream",
          "name": "stderr",
          "text": [
            "100%|██████████| 170498071/170498071 [00:05<00:00, 29827265.53it/s]\n"
          ]
        },
        {
          "output_type": "stream",
          "name": "stdout",
          "text": [
            "Extracting ./data/cifar-10-python.tar.gz to ./data\n",
            "Files already downloaded and verified\n"
          ]
        }
      ]
    },
    {
      "cell_type": "markdown",
      "source": [
        "## Define the CNN Model"
      ],
      "metadata": {
        "id": "LARmoKw6ZXHg"
      }
    },
    {
      "cell_type": "code",
      "source": [
        "class CNN(nn.Module):\n",
        "  def __init__(self):\n",
        "    super(CNN, self).__init__()\n",
        "\n",
        "    # Convolutional layers\n",
        "    self.conv1 = nn.Conv2d(3, 32, kernel_size = 3, padding = 1)\n",
        "    self.conv2 = nn.Conv2d(32, 64, kernel_size = 3, padding = 1)\n",
        "    self.conv3 = nn.Conv2d(64, 128, kernel_size = 3, padding = 1)\n",
        "\n",
        "    # Pooling layer\n",
        "    self.pool = nn.MaxPool2d(2, 2)\n",
        "\n",
        "    # Fully connected layers\n",
        "    self.fc1 = nn.Linear(128 * 4 * 4, 256)\n",
        "    self.fc2 = nn.Linear(256, 128)\n",
        "    self.fc3 = nn.Linear(128, 10)\n",
        "\n",
        "    # Dropout layer to prevent overfitting\n",
        "    self.droput = nn.Dropout(0.5)\n",
        "\n",
        "  def forward(self, x):\n",
        "    x = self.pool(torch.relu(self.conv1(x)))\n",
        "    x = self.pool(torch.relu(self.conv2(x)))\n",
        "    x = self.pool(torch.relu(self.conv3(x)))\n",
        "\n",
        "    # Flatten the output from covolutional layers\n",
        "    x = x.view(-1, 128 * 4 * 4)\n",
        "\n",
        "    # Fully connected layers with ReLU activations\n",
        "    x = torch.relu(self.fc1(x))\n",
        "    x = self.droput(x)\n",
        "    x = torch.relu(self.fc2(x))\n",
        "    x = self.fc3(x)\n",
        "\n",
        "    return x"
      ],
      "metadata": {
        "id": "r27yHw_BXMPN"
      },
      "execution_count": null,
      "outputs": []
    },
    {
      "cell_type": "markdown",
      "source": [
        "## Define Loss Function and Optimizer"
      ],
      "metadata": {
        "id": "dZRR3Vs5eOMG"
      }
    },
    {
      "cell_type": "code",
      "source": [
        "# Instantiate the CNN model, move to GPU if available\n",
        "model = CNN().to(device)\n",
        "\n",
        "# Loss function and optimizer\n",
        "criterion = nn.CrossEntropyLoss()\n",
        "optimizer = optim.Adam(model.parameters(), lr = 0.001)"
      ],
      "metadata": {
        "id": "Yl-LGad6XMR0"
      },
      "execution_count": null,
      "outputs": []
    },
    {
      "cell_type": "markdown",
      "source": [
        "## Train the Model"
      ],
      "metadata": {
        "id": "n8gnww9keuYb"
      }
    },
    {
      "cell_type": "code",
      "source": [
        "import matplotlib.pyplot as plt\n",
        "\n",
        "# Training the CNN with accuracy tracking\n",
        "num_epochs = 10  # You can adjust this based on performance and hardware capacity\n",
        "train_losses = []\n",
        "train_accuracies = []\n",
        "\n",
        "for epoch in range(num_epochs):\n",
        "    running_loss = 0.0\n",
        "    correct = 0\n",
        "    total = 0\n",
        "\n",
        "    for i, data in enumerate(train_loader, 0):\n",
        "        inputs, labels = data\n",
        "        inputs, labels = inputs.to(device), labels.to(device)\n",
        "\n",
        "        # Zero the parameter gradients\n",
        "        optimizer.zero_grad()\n",
        "\n",
        "        # Forward pass\n",
        "        outputs = model(inputs)\n",
        "        loss = criterion(outputs, labels)\n",
        "\n",
        "        # Backward pass and optimization\n",
        "        loss.backward()\n",
        "        optimizer.step()\n",
        "\n",
        "        running_loss += loss.item()\n",
        "\n",
        "        # Compute accuracy\n",
        "        _, predicted = torch.max(outputs.data, 1)\n",
        "        total += labels.size(0)\n",
        "        correct += (predicted == labels).sum().item()\n",
        "\n",
        "        # Print loss and accuracy every 100 mini-batches\n",
        "        if i % 100 == 99:\n",
        "            accuracy = 100 * correct / total\n",
        "            print(f'Epoch {epoch+1}, Batch {i+1}, Loss: {running_loss / 100:.4f}, Accuracy: {accuracy:.2f}%')\n",
        "            running_loss = 0.0\n",
        "\n",
        "    # Track loss and accuracy after each epoch\n",
        "    train_losses.append(running_loss / len(train_loader))\n",
        "    train_accuracies.append(accuracy)\n",
        "\n",
        "print('Finished Training')\n"
      ],
      "metadata": {
        "colab": {
          "base_uri": "https://localhost:8080/"
        },
        "id": "WK6RMphUeugK",
        "outputId": "df152388-0318-4ece-f6ef-bf24aec73ad6"
      },
      "execution_count": null,
      "outputs": [
        {
          "output_type": "stream",
          "name": "stdout",
          "text": [
            "Epoch 1, Batch 100, Loss: 0.4419, Accuracy: 84.70%\n",
            "Epoch 1, Batch 200, Loss: 0.4705, Accuracy: 84.18%\n",
            "Epoch 1, Batch 300, Loss: 0.4485, Accuracy: 84.01%\n",
            "Epoch 1, Batch 400, Loss: 0.4567, Accuracy: 83.97%\n",
            "Epoch 1, Batch 500, Loss: 0.4925, Accuracy: 83.70%\n",
            "Epoch 1, Batch 600, Loss: 0.4901, Accuracy: 83.52%\n",
            "Epoch 1, Batch 700, Loss: 0.5069, Accuracy: 83.31%\n",
            "Epoch 2, Batch 100, Loss: 0.4221, Accuracy: 85.00%\n",
            "Epoch 2, Batch 200, Loss: 0.4450, Accuracy: 84.51%\n",
            "Epoch 2, Batch 300, Loss: 0.4665, Accuracy: 84.29%\n",
            "Epoch 2, Batch 400, Loss: 0.4272, Accuracy: 84.40%\n",
            "Epoch 2, Batch 500, Loss: 0.4570, Accuracy: 84.31%\n",
            "Epoch 2, Batch 600, Loss: 0.4395, Accuracy: 84.27%\n",
            "Epoch 2, Batch 700, Loss: 0.4537, Accuracy: 84.19%\n",
            "Epoch 3, Batch 100, Loss: 0.3964, Accuracy: 86.25%\n",
            "Epoch 3, Batch 200, Loss: 0.4027, Accuracy: 85.86%\n",
            "Epoch 3, Batch 300, Loss: 0.4074, Accuracy: 85.80%\n",
            "Epoch 3, Batch 400, Loss: 0.4279, Accuracy: 85.47%\n",
            "Epoch 3, Batch 500, Loss: 0.4314, Accuracy: 85.41%\n",
            "Epoch 3, Batch 600, Loss: 0.4134, Accuracy: 85.35%\n",
            "Epoch 3, Batch 700, Loss: 0.4289, Accuracy: 85.31%\n",
            "Epoch 4, Batch 100, Loss: 0.3661, Accuracy: 86.95%\n",
            "Epoch 4, Batch 200, Loss: 0.4034, Accuracy: 86.33%\n",
            "Epoch 4, Batch 300, Loss: 0.3743, Accuracy: 86.49%\n",
            "Epoch 4, Batch 400, Loss: 0.3990, Accuracy: 86.29%\n",
            "Epoch 4, Batch 500, Loss: 0.4016, Accuracy: 86.17%\n",
            "Epoch 4, Batch 600, Loss: 0.4067, Accuracy: 85.98%\n",
            "Epoch 4, Batch 700, Loss: 0.4089, Accuracy: 85.93%\n",
            "Epoch 5, Batch 100, Loss: 0.3593, Accuracy: 87.06%\n",
            "Epoch 5, Batch 200, Loss: 0.3414, Accuracy: 87.59%\n",
            "Epoch 5, Batch 300, Loss: 0.3492, Accuracy: 87.58%\n",
            "Epoch 5, Batch 400, Loss: 0.4000, Accuracy: 87.13%\n",
            "Epoch 5, Batch 500, Loss: 0.3619, Accuracy: 87.14%\n",
            "Epoch 5, Batch 600, Loss: 0.3910, Accuracy: 86.96%\n",
            "Epoch 5, Batch 700, Loss: 0.3913, Accuracy: 86.83%\n",
            "Epoch 6, Batch 100, Loss: 0.3439, Accuracy: 87.48%\n",
            "Epoch 6, Batch 200, Loss: 0.3106, Accuracy: 88.39%\n",
            "Epoch 6, Batch 300, Loss: 0.3240, Accuracy: 88.36%\n",
            "Epoch 6, Batch 400, Loss: 0.3668, Accuracy: 88.05%\n",
            "Epoch 6, Batch 500, Loss: 0.3546, Accuracy: 87.85%\n",
            "Epoch 6, Batch 600, Loss: 0.3772, Accuracy: 87.60%\n",
            "Epoch 6, Batch 700, Loss: 0.3747, Accuracy: 87.50%\n",
            "Epoch 7, Batch 100, Loss: 0.3083, Accuracy: 89.28%\n",
            "Epoch 7, Batch 200, Loss: 0.3219, Accuracy: 88.88%\n",
            "Epoch 7, Batch 300, Loss: 0.3377, Accuracy: 88.49%\n",
            "Epoch 7, Batch 400, Loss: 0.3418, Accuracy: 88.24%\n",
            "Epoch 7, Batch 500, Loss: 0.3410, Accuracy: 88.22%\n",
            "Epoch 7, Batch 600, Loss: 0.3396, Accuracy: 88.12%\n",
            "Epoch 7, Batch 700, Loss: 0.3520, Accuracy: 88.04%\n",
            "Epoch 8, Batch 100, Loss: 0.3026, Accuracy: 89.55%\n",
            "Epoch 8, Batch 200, Loss: 0.3087, Accuracy: 89.27%\n",
            "Epoch 8, Batch 300, Loss: 0.3181, Accuracy: 89.04%\n",
            "Epoch 8, Batch 400, Loss: 0.3096, Accuracy: 89.11%\n",
            "Epoch 8, Batch 500, Loss: 0.3106, Accuracy: 89.00%\n",
            "Epoch 8, Batch 600, Loss: 0.3218, Accuracy: 88.85%\n",
            "Epoch 8, Batch 700, Loss: 0.3132, Accuracy: 88.84%\n",
            "Epoch 9, Batch 100, Loss: 0.2762, Accuracy: 89.84%\n",
            "Epoch 9, Batch 200, Loss: 0.2968, Accuracy: 89.43%\n",
            "Epoch 9, Batch 300, Loss: 0.2937, Accuracy: 89.47%\n",
            "Epoch 9, Batch 400, Loss: 0.3050, Accuracy: 89.35%\n",
            "Epoch 9, Batch 500, Loss: 0.3044, Accuracy: 89.29%\n",
            "Epoch 9, Batch 600, Loss: 0.3100, Accuracy: 89.24%\n",
            "Epoch 9, Batch 700, Loss: 0.3227, Accuracy: 89.17%\n",
            "Epoch 10, Batch 100, Loss: 0.2700, Accuracy: 90.62%\n",
            "Epoch 10, Batch 200, Loss: 0.2828, Accuracy: 90.24%\n",
            "Epoch 10, Batch 300, Loss: 0.2894, Accuracy: 89.90%\n",
            "Epoch 10, Batch 400, Loss: 0.2972, Accuracy: 89.74%\n",
            "Epoch 10, Batch 500, Loss: 0.3265, Accuracy: 89.43%\n",
            "Epoch 10, Batch 600, Loss: 0.3199, Accuracy: 89.28%\n",
            "Epoch 10, Batch 700, Loss: 0.3159, Accuracy: 89.18%\n",
            "Finished Training\n"
          ]
        }
      ]
    },
    {
      "cell_type": "markdown",
      "source": [
        "## Test the Model"
      ],
      "metadata": {
        "id": "QkcJzqOyg7S2"
      }
    },
    {
      "cell_type": "code",
      "source": [
        "correct = 0\n",
        "total = 0\n",
        "\n",
        "# No gradient calculation for testing\n",
        "with torch.no_grad():\n",
        "  for data in test_loader:\n",
        "    images, labels = data\n",
        "    images, labels = images.to(device), labels.to(device)\n",
        "\n",
        "    # Forward pass\n",
        "    outputs = model(images)\n",
        "    _, predicted = torch.max(outputs.data, 1)\n",
        "\n",
        "    total += labels.size(0)\n",
        "    correct += (predicted == labels).sum().item()\n",
        "\n",
        "print(f'Accuracy of the network on the 10,000 test images: {100 * correct / total:.2f}%')"
      ],
      "metadata": {
        "colab": {
          "base_uri": "https://localhost:8080/"
        },
        "id": "lOnZxDzIg6n_",
        "outputId": "ea6f16d2-4206-44ef-dd80-86551b10b331"
      },
      "execution_count": null,
      "outputs": [
        {
          "output_type": "stream",
          "name": "stdout",
          "text": [
            "Accuracy of the network on the 10,000 test images: 73.81%\n"
          ]
        }
      ]
    },
    {
      "cell_type": "markdown",
      "source": [
        "## Plotting the training loss and accuracy"
      ],
      "metadata": {
        "id": "V6nk4ozrkGBY"
      }
    },
    {
      "cell_type": "code",
      "source": [
        "# Plotting the training loss and accuracy\n",
        "epochs = range(1, num_epochs + 1)\n",
        "\n",
        "# Loss curve\n",
        "plt.figure(figsize=(12, 5))\n",
        "plt.subplot(1, 2, 1)\n",
        "plt.plot(epochs, train_losses, label='Training Loss')\n",
        "plt.title('Training Loss Over Epochs')\n",
        "plt.xlabel('Epochs')\n",
        "plt.ylabel('Loss')\n",
        "plt.legend()\n",
        "\n",
        "# Accuracy curve\n",
        "plt.subplot(1, 2, 2)\n",
        "plt.plot(epochs, train_accuracies, label='Training Accuracy')\n",
        "plt.title('Training Accuracy Over Epochs')\n",
        "plt.xlabel('Epochs')\n",
        "plt.ylabel('Accuracy (%)')\n",
        "plt.legend()\n",
        "\n",
        "plt.show()\n"
      ],
      "metadata": {
        "colab": {
          "base_uri": "https://localhost:8080/",
          "height": 399
        },
        "id": "06NulcO5kFqC",
        "outputId": "4b146598-51c7-4d2d-c4cf-8ee2d14e5a2c"
      },
      "execution_count": null,
      "outputs": [
        {
          "output_type": "display_data",
          "data": {
            "text/plain": [
              "<Figure size 1200x500 with 2 Axes>"
            ],
            "image/png": "[encoded data removed]"
          },
          "metadata": {}
        }
      ]
    },
    {
      "cell_type": "markdown",
      "source": [
        "## Save the Trained Model"
      ],
      "metadata": {
        "id": "_tz96ocNhwq6"
      }
    },
    {
      "cell_type": "code",
      "source": [
        "torch.save(model.state_dict(), 'cnn.cifar10.pth')\n",
        "print('Model saved successfuly!')"
      ],
      "metadata": {
        "colab": {
          "base_uri": "https://localhost:8080/"
        },
        "id": "I1VfMRuNg6zH",
        "outputId": "fadb1ed5-0495-4c93-ec57-84da7f09b9f7"
      },
      "execution_count": null,
      "outputs": [
        {
          "output_type": "stream",
          "name": "stdout",
          "text": [
            "Model saved successfuly!\n"
          ]
        }
      ]
    }
  ]
}